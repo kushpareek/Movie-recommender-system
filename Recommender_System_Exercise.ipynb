{
  "cells": [
    {
      "cell_type": "markdown",
      "metadata": {
        "id": "view-in-github",
        "colab_type": "text"
      },
      "source": [
        "<a href=\"https://colab.research.google.com/github/kushpareek/Movie-recommender-system/blob/main/Recommender_System_Exercise.ipynb\" target=\"_parent\"><img src=\"https://colab.research.google.com/assets/colab-badge.svg\" alt=\"Open In Colab\"/></a>"
      ]
    },
    {
      "cell_type": "code",
      "execution_count": 76,
      "id": "5e362aa8-70f2-4a12-b47a-f6497b7ba28c",
      "metadata": {
        "colab": {
          "base_uri": "https://localhost:8080/"
        },
        "id": "5e362aa8-70f2-4a12-b47a-f6497b7ba28c",
        "outputId": "ac686c04-efe0-4b7e-fdc8-52c13eadd935"
      },
      "outputs": [
        {
          "output_type": "stream",
          "name": "stdout",
          "text": [
            "Formal class 'realRatingMatrix' [package \"recommenderlab\"] with 2 slots\n",
            "  ..@ data     :Formal class 'dgCMatrix' [package \"Matrix\"] with 6 slots\n",
            "  .. .. ..@ i       : int [1:99392] 0 1 4 5 9 12 14 15 16 17 ...\n",
            "  .. .. ..@ p       : int [1:1665] 0 452 583 673 882 968 994 1386 1605 1904 ...\n",
            "  .. .. ..@ Dim     : int [1:2] 943 1664\n",
            "  .. .. ..@ Dimnames:List of 2\n",
            "  .. .. .. ..$ : chr [1:943] \"1\" \"2\" \"3\" \"4\" ...\n",
            "  .. .. .. ..$ : chr [1:1664] \"Toy Story (1995)\" \"GoldenEye (1995)\" \"Four Rooms (1995)\" \"Get Shorty (1995)\" ...\n",
            "  .. .. ..@ x       : num [1:99392] 5 4 4 4 4 3 1 5 4 5 ...\n",
            "  .. .. ..@ factors : list()\n",
            "  ..@ normalize: NULL\n"
          ]
        }
      ],
      "source": [
        "if (!requireNamespace(\"recommenderlab\", quietly = TRUE)) {\n",
        "    install.packages('Metrics')\n",
        "  install.packages(\"recommenderlab\")\n",
        "    install.packages('recosystem')\n",
        "\n",
        "}\n",
        "library(recommenderlab)\n",
        "library('Metrics')\n",
        "library('recosystem')\n",
        "data(MovieLense) ## get the data\n",
        "str(MovieLense)\n",
        "\n"
      ]
    },
    {
      "cell_type": "code",
      "execution_count": 77,
      "id": "1f48c481-2835-4477-b07b-6563c4b007d3",
      "metadata": {
        "colab": {
          "base_uri": "https://localhost:8080/"
        },
        "id": "1f48c481-2835-4477-b07b-6563c4b007d3",
        "outputId": "6dcfacf9-16b1-46c2-b680-35119b8a1d2c"
      },
      "outputs": [
        {
          "output_type": "stream",
          "name": "stdout",
          "text": [
            "First few ratings of second user:\n"
          ]
        }
      ],
      "source": [
        "## look at the first few ratings of the second user, by converting this into a list data structure (and taking the head)\n",
        "cat(\"First few ratings of second user:\\n\")"
      ]
    },
    {
      "cell_type": "code",
      "execution_count": 78,
      "id": "2bd13d48-b6a8-4457-a107-dbbdd54d1a21",
      "metadata": {
        "colab": {
          "base_uri": "https://localhost:8080/",
          "height": 52
        },
        "id": "2bd13d48-b6a8-4457-a107-dbbdd54d1a21",
        "outputId": "d8127cae-c821-4d5b-e2ce-0cd8a9020ae7"
      },
      "outputs": [
        {
          "output_type": "display_data",
          "data": {
            "text/html": [
              "<style>\n",
              ".dl-inline {width: auto; margin:0; padding: 0}\n",
              ".dl-inline>dt, .dl-inline>dd {float: none; width: auto; display: inline-block}\n",
              ".dl-inline>dt::after {content: \":\\0020\"; padding-right: .5ex}\n",
              ".dl-inline>dt:not(:first-of-type) {padding-left: .5ex}\n",
              "</style><dl class=dl-inline><dt>Toy Story (1995)</dt><dd>4</dd><dt>Richard III (1995)</dt><dd>2</dd><dt>Mighty Aphrodite (1995)</dt><dd>4</dd><dt>Postino, Il (1994)</dt><dd>4</dd><dt>Antonia's Line (1995)</dt><dd>3</dd><dt>Birdcage, The (1996)</dt><dd>4</dd></dl>\n"
            ],
            "text/markdown": "Toy Story (1995)\n:   4Richard III (1995)\n:   2Mighty Aphrodite (1995)\n:   4Postino, Il (1994)\n:   4Antonia's Line (1995)\n:   3Birdcage, The (1996)\n:   4\n\n",
            "text/latex": "\\begin{description*}\n\\item[Toy Story (1995)] 4\n\\item[Richard III (1995)] 2\n\\item[Mighty Aphrodite (1995)] 4\n\\item[Postino, Il (1994)] 4\n\\item[Antonia's Line (1995)] 3\n\\item[Birdcage, The (1996)] 4\n\\end{description*}\n",
            "text/plain": [
              "       Toy Story (1995)      Richard III (1995) Mighty Aphrodite (1995) \n",
              "                      4                       2                       4 \n",
              "     Postino, Il (1994)   Antonia's Line (1995)    Birdcage, The (1996) \n",
              "                      4                       3                       4 "
            ]
          },
          "metadata": {}
        }
      ],
      "source": [
        "head(as(MovieLense[2,], \"list\")[[1]])"
      ]
    },
    {
      "cell_type": "code",
      "execution_count": 79,
      "id": "254bd1cb-3fe3-49f9-8a83-d85823fa4e27",
      "metadata": {
        "colab": {
          "base_uri": "https://localhost:8080/"
        },
        "id": "254bd1cb-3fe3-49f9-8a83-d85823fa4e27",
        "outputId": "ba92cc85-11ce-4de5-b183-5241ac359e39"
      },
      "outputs": [
        {
          "output_type": "stream",
          "name": "stdout",
          "text": [
            "\n",
            " Average rating of all users: 3.587565"
          ]
        }
      ],
      "source": [
        "cat(\"\\n Average rating of all users:\", mean(rowMeans(MovieLense)))"
      ]
    },
    {
      "cell_type": "code",
      "execution_count": 80,
      "id": "3b4877a7-5bac-4f9d-9493-540928bd1f2f",
      "metadata": {
        "id": "3b4877a7-5bac-4f9d-9493-540928bd1f2f"
      },
      "outputs": [],
      "source": [
        "## let's calculate the average rating by each user\n",
        "userMeanRatings<-rowMeans(MovieLense)\n"
      ]
    },
    {
      "cell_type": "code",
      "execution_count": 81,
      "id": "3d0aa77c-7557-48c3-99e1-d7f33639c7de",
      "metadata": {
        "colab": {
          "base_uri": "https://localhost:8080/",
          "height": 437
        },
        "id": "3d0aa77c-7557-48c3-99e1-d7f33639c7de",
        "outputId": "e30a17b2-baba-499a-a557-90bbd5918819"
      },
      "outputs": [
        {
          "output_type": "display_data",
          "data": {
            "text/plain": [
              "plot without title"
            ],
            "image/png": "[encoded data removed]"
          },
          "metadata": {
            "image/png": {
              "width": 420,
              "height": 420
            }
          }
        }
      ],
      "source": [
        "image(MovieLense[1:943,1:1664]) #all users, all movies"
      ]
    },
    {
      "cell_type": "code",
      "execution_count": 82,
      "id": "f0e44788-4239-44c1-93f8-fc6c91cbb7eb",
      "metadata": {
        "colab": {
          "base_uri": "https://localhost:8080/",
          "height": 437
        },
        "id": "f0e44788-4239-44c1-93f8-fc6c91cbb7eb",
        "outputId": "0ab46604-7d4f-460f-83b4-f0c5253172b5"
      },
      "outputs": [
        {
          "output_type": "display_data",
          "data": {
            "text/plain": [
              "Plot with title “Histogram of rowCounts(MovieLense)”"
            ],
            "image/png": "[encoded data removed]"
          },
          "metadata": {
            "image/png": {
              "width": 420,
              "height": 420
            }
          }
        }
      ],
      "source": [
        "## histogram of the number of ratings per user, row = user\n",
        "hist(rowCounts(MovieLense), breaks=100)"
      ]
    },
    {
      "cell_type": "code",
      "execution_count": 83,
      "id": "28a72115-97a6-41f1-a94b-2bd608b5018f",
      "metadata": {
        "colab": {
          "base_uri": "https://localhost:8080/"
        },
        "id": "28a72115-97a6-41f1-a94b-2bd608b5018f",
        "outputId": "f9910014-1915-47c1-9326-ff1705b10d5e"
      },
      "outputs": [
        {
          "output_type": "stream",
          "name": "stdout",
          "text": [
            "Number of ratings per user:\n"
          ]
        }
      ],
      "source": [
        "cat(\"Number of ratings per user:\\n\")"
      ]
    },
    {
      "cell_type": "code",
      "execution_count": 84,
      "id": "8a583240-506c-4258-b659-f217a1b18f48",
      "metadata": {
        "colab": {
          "base_uri": "https://localhost:8080/",
          "height": 52
        },
        "id": "8a583240-506c-4258-b659-f217a1b18f48",
        "outputId": "33adc9bb-ca6d-4fd4-f7b5-f38b8fe226df"
      },
      "outputs": [
        {
          "output_type": "display_data",
          "data": {
            "text/plain": [
              "   Min. 1st Qu.  Median    Mean 3rd Qu.    Max. \n",
              "   19.0    32.0    64.0   105.4   147.5   735.0 "
            ]
          },
          "metadata": {}
        }
      ],
      "source": [
        "summary(rowCounts(MovieLense)) #basic statistics on count"
      ]
    },
    {
      "cell_type": "code",
      "execution_count": 85,
      "id": "96fdc57c-0cd6-4755-94b4-c2193dcd09b2",
      "metadata": {
        "colab": {
          "base_uri": "https://localhost:8080/",
          "height": 514
        },
        "id": "96fdc57c-0cd6-4755-94b4-c2193dcd09b2",
        "outputId": "92d9f864-2dce-4637-ba49-3b898bdf09b8"
      },
      "outputs": [
        {
          "output_type": "display_data",
          "data": {
            "text/html": [
              "<table class=\"dataframe\">\n",
              "<caption>A data.frame: 6 × 22</caption>\n",
              "<thead>\n",
              "\t<tr><th></th><th scope=col>title</th><th scope=col>year</th><th scope=col>url</th><th scope=col>unknown</th><th scope=col>Action</th><th scope=col>Adventure</th><th scope=col>Animation</th><th scope=col>Children's</th><th scope=col>Comedy</th><th scope=col>Crime</th><th scope=col>⋯</th><th scope=col>Fantasy</th><th scope=col>Film-Noir</th><th scope=col>Horror</th><th scope=col>Musical</th><th scope=col>Mystery</th><th scope=col>Romance</th><th scope=col>Sci-Fi</th><th scope=col>Thriller</th><th scope=col>War</th><th scope=col>Western</th></tr>\n",
              "\t<tr><th></th><th scope=col>&lt;chr&gt;</th><th scope=col>&lt;dbl&gt;</th><th scope=col>&lt;chr&gt;</th><th scope=col>&lt;int&gt;</th><th scope=col>&lt;int&gt;</th><th scope=col>&lt;int&gt;</th><th scope=col>&lt;int&gt;</th><th scope=col>&lt;int&gt;</th><th scope=col>&lt;int&gt;</th><th scope=col>&lt;int&gt;</th><th scope=col>⋯</th><th scope=col>&lt;int&gt;</th><th scope=col>&lt;int&gt;</th><th scope=col>&lt;int&gt;</th><th scope=col>&lt;int&gt;</th><th scope=col>&lt;int&gt;</th><th scope=col>&lt;int&gt;</th><th scope=col>&lt;int&gt;</th><th scope=col>&lt;int&gt;</th><th scope=col>&lt;int&gt;</th><th scope=col>&lt;int&gt;</th></tr>\n",
              "</thead>\n",
              "<tbody>\n",
              "\t<tr><th scope=row>1</th><td>Toy Story (1995)                                    </td><td>1995</td><td>http://us.imdb.com/M/title-exact?Toy%20Story%20(1995)       </td><td>0</td><td>0</td><td>0</td><td>1</td><td>1</td><td>1</td><td>0</td><td>⋯</td><td>0</td><td>0</td><td>0</td><td>0</td><td>0</td><td>0</td><td>0</td><td>0</td><td>0</td><td>0</td></tr>\n",
              "\t<tr><th scope=row>2</th><td>GoldenEye (1995)                                    </td><td>1995</td><td>http://us.imdb.com/M/title-exact?GoldenEye%20(1995)         </td><td>0</td><td>1</td><td>1</td><td>0</td><td>0</td><td>0</td><td>0</td><td>⋯</td><td>0</td><td>0</td><td>0</td><td>0</td><td>0</td><td>0</td><td>0</td><td>1</td><td>0</td><td>0</td></tr>\n",
              "\t<tr><th scope=row>3</th><td>Four Rooms (1995)                                   </td><td>1995</td><td>http://us.imdb.com/M/title-exact?Four%20Rooms%20(1995)      </td><td>0</td><td>0</td><td>0</td><td>0</td><td>0</td><td>0</td><td>0</td><td>⋯</td><td>0</td><td>0</td><td>0</td><td>0</td><td>0</td><td>0</td><td>0</td><td>1</td><td>0</td><td>0</td></tr>\n",
              "\t<tr><th scope=row>4</th><td>Get Shorty (1995)                                   </td><td>1995</td><td>http://us.imdb.com/M/title-exact?Get%20Shorty%20(1995)      </td><td>0</td><td>1</td><td>0</td><td>0</td><td>0</td><td>1</td><td>0</td><td>⋯</td><td>0</td><td>0</td><td>0</td><td>0</td><td>0</td><td>0</td><td>0</td><td>0</td><td>0</td><td>0</td></tr>\n",
              "\t<tr><th scope=row>5</th><td>Copycat (1995)                                      </td><td>1995</td><td>http://us.imdb.com/M/title-exact?Copycat%20(1995)           </td><td>0</td><td>0</td><td>0</td><td>0</td><td>0</td><td>0</td><td>1</td><td>⋯</td><td>0</td><td>0</td><td>0</td><td>0</td><td>0</td><td>0</td><td>0</td><td>1</td><td>0</td><td>0</td></tr>\n",
              "\t<tr><th scope=row>6</th><td>Shanghai Triad (Yao a yao yao dao waipo qiao) (1995)</td><td>1995</td><td>http://us.imdb.com/Title?Yao+a+yao+yao+dao+waipo+qiao+(1995)</td><td>0</td><td>0</td><td>0</td><td>0</td><td>0</td><td>0</td><td>0</td><td>⋯</td><td>0</td><td>0</td><td>0</td><td>0</td><td>0</td><td>0</td><td>0</td><td>0</td><td>0</td><td>0</td></tr>\n",
              "</tbody>\n",
              "</table>\n"
            ],
            "text/markdown": "\nA data.frame: 6 × 22\n\n| <!--/--> | title &lt;chr&gt; | year &lt;dbl&gt; | url &lt;chr&gt; | unknown &lt;int&gt; | Action &lt;int&gt; | Adventure &lt;int&gt; | Animation &lt;int&gt; | Children's &lt;int&gt; | Comedy &lt;int&gt; | Crime &lt;int&gt; | ⋯ ⋯ | Fantasy &lt;int&gt; | Film-Noir &lt;int&gt; | Horror &lt;int&gt; | Musical &lt;int&gt; | Mystery &lt;int&gt; | Romance &lt;int&gt; | Sci-Fi &lt;int&gt; | Thriller &lt;int&gt; | War &lt;int&gt; | Western &lt;int&gt; |\n|---|---|---|---|---|---|---|---|---|---|---|---|---|---|---|---|---|---|---|---|---|---|\n| 1 | Toy Story (1995)                                     | 1995 | http://us.imdb.com/M/title-exact?Toy%20Story%20(1995)        | 0 | 0 | 0 | 1 | 1 | 1 | 0 | ⋯ | 0 | 0 | 0 | 0 | 0 | 0 | 0 | 0 | 0 | 0 |\n| 2 | GoldenEye (1995)                                     | 1995 | http://us.imdb.com/M/title-exact?GoldenEye%20(1995)          | 0 | 1 | 1 | 0 | 0 | 0 | 0 | ⋯ | 0 | 0 | 0 | 0 | 0 | 0 | 0 | 1 | 0 | 0 |\n| 3 | Four Rooms (1995)                                    | 1995 | http://us.imdb.com/M/title-exact?Four%20Rooms%20(1995)       | 0 | 0 | 0 | 0 | 0 | 0 | 0 | ⋯ | 0 | 0 | 0 | 0 | 0 | 0 | 0 | 1 | 0 | 0 |\n| 4 | Get Shorty (1995)                                    | 1995 | http://us.imdb.com/M/title-exact?Get%20Shorty%20(1995)       | 0 | 1 | 0 | 0 | 0 | 1 | 0 | ⋯ | 0 | 0 | 0 | 0 | 0 | 0 | 0 | 0 | 0 | 0 |\n| 5 | Copycat (1995)                                       | 1995 | http://us.imdb.com/M/title-exact?Copycat%20(1995)            | 0 | 0 | 0 | 0 | 0 | 0 | 1 | ⋯ | 0 | 0 | 0 | 0 | 0 | 0 | 0 | 1 | 0 | 0 |\n| 6 | Shanghai Triad (Yao a yao yao dao waipo qiao) (1995) | 1995 | http://us.imdb.com/Title?Yao+a+yao+yao+dao+waipo+qiao+(1995) | 0 | 0 | 0 | 0 | 0 | 0 | 0 | ⋯ | 0 | 0 | 0 | 0 | 0 | 0 | 0 | 0 | 0 | 0 |\n\n",
            "text/latex": "A data.frame: 6 × 22\n\\begin{tabular}{r|lllllllllllllllllllll}\n  & title & year & url & unknown & Action & Adventure & Animation & Children's & Comedy & Crime & ⋯ & Fantasy & Film-Noir & Horror & Musical & Mystery & Romance & Sci-Fi & Thriller & War & Western\\\\\n  & <chr> & <dbl> & <chr> & <int> & <int> & <int> & <int> & <int> & <int> & <int> & ⋯ & <int> & <int> & <int> & <int> & <int> & <int> & <int> & <int> & <int> & <int>\\\\\n\\hline\n\t1 & Toy Story (1995)                                     & 1995 & http://us.imdb.com/M/title-exact?Toy\\%20Story\\%20(1995)        & 0 & 0 & 0 & 1 & 1 & 1 & 0 & ⋯ & 0 & 0 & 0 & 0 & 0 & 0 & 0 & 0 & 0 & 0\\\\\n\t2 & GoldenEye (1995)                                     & 1995 & http://us.imdb.com/M/title-exact?GoldenEye\\%20(1995)          & 0 & 1 & 1 & 0 & 0 & 0 & 0 & ⋯ & 0 & 0 & 0 & 0 & 0 & 0 & 0 & 1 & 0 & 0\\\\\n\t3 & Four Rooms (1995)                                    & 1995 & http://us.imdb.com/M/title-exact?Four\\%20Rooms\\%20(1995)       & 0 & 0 & 0 & 0 & 0 & 0 & 0 & ⋯ & 0 & 0 & 0 & 0 & 0 & 0 & 0 & 1 & 0 & 0\\\\\n\t4 & Get Shorty (1995)                                    & 1995 & http://us.imdb.com/M/title-exact?Get\\%20Shorty\\%20(1995)       & 0 & 1 & 0 & 0 & 0 & 1 & 0 & ⋯ & 0 & 0 & 0 & 0 & 0 & 0 & 0 & 0 & 0 & 0\\\\\n\t5 & Copycat (1995)                                       & 1995 & http://us.imdb.com/M/title-exact?Copycat\\%20(1995)            & 0 & 0 & 0 & 0 & 0 & 0 & 1 & ⋯ & 0 & 0 & 0 & 0 & 0 & 0 & 0 & 1 & 0 & 0\\\\\n\t6 & Shanghai Triad (Yao a yao yao dao waipo qiao) (1995) & 1995 & http://us.imdb.com/Title?Yao+a+yao+yao+dao+waipo+qiao+(1995) & 0 & 0 & 0 & 0 & 0 & 0 & 0 & ⋯ & 0 & 0 & 0 & 0 & 0 & 0 & 0 & 0 & 0 & 0\\\\\n\\end{tabular}\n",
            "text/plain": [
              "  title                                                year\n",
              "1 Toy Story (1995)                                     1995\n",
              "2 GoldenEye (1995)                                     1995\n",
              "3 Four Rooms (1995)                                    1995\n",
              "4 Get Shorty (1995)                                    1995\n",
              "5 Copycat (1995)                                       1995\n",
              "6 Shanghai Triad (Yao a yao yao dao waipo qiao) (1995) 1995\n",
              "  url                                                          unknown Action\n",
              "1 http://us.imdb.com/M/title-exact?Toy%20Story%20(1995)        0       0     \n",
              "2 http://us.imdb.com/M/title-exact?GoldenEye%20(1995)          0       1     \n",
              "3 http://us.imdb.com/M/title-exact?Four%20Rooms%20(1995)       0       0     \n",
              "4 http://us.imdb.com/M/title-exact?Get%20Shorty%20(1995)       0       1     \n",
              "5 http://us.imdb.com/M/title-exact?Copycat%20(1995)            0       0     \n",
              "6 http://us.imdb.com/Title?Yao+a+yao+yao+dao+waipo+qiao+(1995) 0       0     \n",
              "  Adventure Animation Children's Comedy Crime ⋯ Fantasy Film-Noir Horror\n",
              "1 0         1         1          1      0     ⋯ 0       0         0     \n",
              "2 1         0         0          0      0     ⋯ 0       0         0     \n",
              "3 0         0         0          0      0     ⋯ 0       0         0     \n",
              "4 0         0         0          1      0     ⋯ 0       0         0     \n",
              "5 0         0         0          0      1     ⋯ 0       0         0     \n",
              "6 0         0         0          0      0     ⋯ 0       0         0     \n",
              "  Musical Mystery Romance Sci-Fi Thriller War Western\n",
              "1 0       0       0       0      0        0   0      \n",
              "2 0       0       0       0      1        0   0      \n",
              "3 0       0       0       0      1        0   0      \n",
              "4 0       0       0       0      0        0   0      \n",
              "5 0       0       0       0      1        0   0      \n",
              "6 0       0       0       0      0        0   0      "
            ]
          },
          "metadata": {}
        }
      ],
      "source": [
        "head(MovieLenseMeta)\n"
      ]
    },
    {
      "cell_type": "code",
      "execution_count": 86,
      "id": "2972a2b6-6c9a-47b0-a69e-08c87985d877",
      "metadata": {
        "id": "2972a2b6-6c9a-47b0-a69e-08c87985d877"
      },
      "outputs": [],
      "source": [
        "set.seed(2)\n",
        "ml.matrix <- as(MovieLense, \"matrix\") #convert the data into a 943 x 1664 matrix\n",
        "mask <- sample(c(0,1), 1664*943, replace=TRUE, prob=c(.2, .8)) # entries with a '0' will be held-out\n",
        "mask <- matrix(mask, nrow = 943, byrow = TRUE) # do this for 20%\n",
        "ml.train <- ml.matrix\n",
        "ml.train[mask==0] <- NA #if mask '0', ignore the entry\n",
        "ml.test <- ml.matrix\n",
        "ml.test[mask==1] <- NA #if mask '1', ignore the entry\n",
        "rm(mask)"
      ]
    },
    {
      "cell_type": "code",
      "execution_count": 87,
      "id": "723e85e9-c22b-45f1-9167-ededdcd345c0",
      "metadata": {
        "colab": {
          "base_uri": "https://localhost:8080/",
          "height": 52
        },
        "id": "723e85e9-c22b-45f1-9167-ededdcd345c0",
        "outputId": "bf157e07-4852-43c7-a29c-40cb0bd50106"
      },
      "outputs": [
        {
          "output_type": "display_data",
          "data": {
            "text/html": [
              "<style>\n",
              ".dl-inline {width: auto; margin:0; padding: 0}\n",
              ".dl-inline>dt, .dl-inline>dd {float: none; width: auto; display: inline-block}\n",
              ".dl-inline>dt::after {content: \":\\0020\"; padding-right: .5ex}\n",
              ".dl-inline>dt:not(:first-of-type) {padding-left: .5ex}\n",
              "</style><dl class=dl-inline><dt>Full Monty, The (1997)</dt><dd>5</dd><dt>Gattaca (1997)</dt><dd>5</dd><dt>Starship Troopers (1997)</dt><dd>2</dd><dt>Good Will Hunting (1997)</dt><dd>3</dd><dt>Heat (1995)</dt><dd>&lt;NA&gt;</dd><dt>Sabrina (1995)</dt><dd>&lt;NA&gt;</dd></dl>\n"
            ],
            "text/markdown": "Full Monty, The (1997)\n:   5Gattaca (1997)\n:   5Starship Troopers (1997)\n:   2Good Will Hunting (1997)\n:   3Heat (1995)\n:   &lt;NA&gt;Sabrina (1995)\n:   &lt;NA&gt;\n\n",
            "text/latex": "\\begin{description*}\n\\item[Full Monty, The (1997)] 5\n\\item[Gattaca (1997)] 5\n\\item[Starship Troopers (1997)] 2\n\\item[Good Will Hunting (1997)] 3\n\\item[Heat (1995)] <NA>\n\\item[Sabrina (1995)] <NA>\n\\end{description*}\n",
            "text/plain": [
              "  Full Monty, The (1997)           Gattaca (1997) Starship Troopers (1997) \n",
              "                       5                        5                        2 \n",
              "Good Will Hunting (1997)              Heat (1995)           Sabrina (1995) \n",
              "                       3                       NA                       NA "
            ]
          },
          "metadata": {}
        }
      ],
      "source": [
        "ml.matrix[1,268:273]"
      ]
    },
    {
      "cell_type": "code",
      "execution_count": 88,
      "id": "5718033e-7f10-455a-961f-c8ba4ff58182",
      "metadata": {
        "colab": {
          "base_uri": "https://localhost:8080/",
          "height": 52
        },
        "id": "5718033e-7f10-455a-961f-c8ba4ff58182",
        "outputId": "d3a193d7-29b5-43bc-b745-b8f5f36d911c"
      },
      "outputs": [
        {
          "output_type": "display_data",
          "data": {
            "text/html": [
              "<style>\n",
              ".dl-inline {width: auto; margin:0; padding: 0}\n",
              ".dl-inline>dt, .dl-inline>dd {float: none; width: auto; display: inline-block}\n",
              ".dl-inline>dt::after {content: \":\\0020\"; padding-right: .5ex}\n",
              ".dl-inline>dt:not(:first-of-type) {padding-left: .5ex}\n",
              "</style><dl class=dl-inline><dt>Full Monty, The (1997)</dt><dd>5</dd><dt>Gattaca (1997)</dt><dd>&lt;NA&gt;</dd><dt>Starship Troopers (1997)</dt><dd>2</dd><dt>Good Will Hunting (1997)</dt><dd>&lt;NA&gt;</dd><dt>Heat (1995)</dt><dd>&lt;NA&gt;</dd><dt>Sabrina (1995)</dt><dd>&lt;NA&gt;</dd></dl>\n"
            ],
            "text/markdown": "Full Monty, The (1997)\n:   5Gattaca (1997)\n:   &lt;NA&gt;Starship Troopers (1997)\n:   2Good Will Hunting (1997)\n:   &lt;NA&gt;Heat (1995)\n:   &lt;NA&gt;Sabrina (1995)\n:   &lt;NA&gt;\n\n",
            "text/latex": "\\begin{description*}\n\\item[Full Monty, The (1997)] 5\n\\item[Gattaca (1997)] <NA>\n\\item[Starship Troopers (1997)] 2\n\\item[Good Will Hunting (1997)] <NA>\n\\item[Heat (1995)] <NA>\n\\item[Sabrina (1995)] <NA>\n\\end{description*}\n",
            "text/plain": [
              "  Full Monty, The (1997)           Gattaca (1997) Starship Troopers (1997) \n",
              "                       5                       NA                        2 \n",
              "Good Will Hunting (1997)              Heat (1995)           Sabrina (1995) \n",
              "                      NA                       NA                       NA "
            ]
          },
          "metadata": {}
        }
      ],
      "source": [
        "ml.train[1,268:273]"
      ]
    },
    {
      "cell_type": "code",
      "execution_count": 89,
      "id": "e47f0bb9-4eb5-4e96-af21-03fbacb34f4c",
      "metadata": {
        "colab": {
          "base_uri": "https://localhost:8080/",
          "height": 52
        },
        "id": "e47f0bb9-4eb5-4e96-af21-03fbacb34f4c",
        "outputId": "707b28a9-eef2-465d-a592-9db93e8b73c4"
      },
      "outputs": [
        {
          "output_type": "display_data",
          "data": {
            "text/html": [
              "<style>\n",
              ".dl-inline {width: auto; margin:0; padding: 0}\n",
              ".dl-inline>dt, .dl-inline>dd {float: none; width: auto; display: inline-block}\n",
              ".dl-inline>dt::after {content: \":\\0020\"; padding-right: .5ex}\n",
              ".dl-inline>dt:not(:first-of-type) {padding-left: .5ex}\n",
              "</style><dl class=dl-inline><dt>Full Monty, The (1997)</dt><dd>&lt;NA&gt;</dd><dt>Gattaca (1997)</dt><dd>5</dd><dt>Starship Troopers (1997)</dt><dd>&lt;NA&gt;</dd><dt>Good Will Hunting (1997)</dt><dd>3</dd><dt>Heat (1995)</dt><dd>&lt;NA&gt;</dd><dt>Sabrina (1995)</dt><dd>&lt;NA&gt;</dd></dl>\n"
            ],
            "text/markdown": "Full Monty, The (1997)\n:   &lt;NA&gt;Gattaca (1997)\n:   5Starship Troopers (1997)\n:   &lt;NA&gt;Good Will Hunting (1997)\n:   3Heat (1995)\n:   &lt;NA&gt;Sabrina (1995)\n:   &lt;NA&gt;\n\n",
            "text/latex": "\\begin{description*}\n\\item[Full Monty, The (1997)] <NA>\n\\item[Gattaca (1997)] 5\n\\item[Starship Troopers (1997)] <NA>\n\\item[Good Will Hunting (1997)] 3\n\\item[Heat (1995)] <NA>\n\\item[Sabrina (1995)] <NA>\n\\end{description*}\n",
            "text/plain": [
              "  Full Monty, The (1997)           Gattaca (1997) Starship Troopers (1997) \n",
              "                      NA                        5                       NA \n",
              "Good Will Hunting (1997)              Heat (1995)           Sabrina (1995) \n",
              "                       3                       NA                       NA "
            ]
          },
          "metadata": {}
        }
      ],
      "source": [
        "ml.test[1,268:273]"
      ]
    },
    {
      "cell_type": "code",
      "execution_count": 90,
      "id": "08b7d3f1-6e28-4254-871a-499aee808735",
      "metadata": {
        "colab": {
          "base_uri": "https://localhost:8080/",
          "height": 323
        },
        "id": "08b7d3f1-6e28-4254-871a-499aee808735",
        "outputId": "011192b8-9248-4c46-bd11-11783b0e187b"
      },
      "outputs": [
        {
          "output_type": "display_data",
          "data": {
            "text/html": [
              "<table class=\"dataframe\">\n",
              "<caption>A data.frame: 6 × 19</caption>\n",
              "<thead>\n",
              "\t<tr><th></th><th scope=col>unknown</th><th scope=col>Action</th><th scope=col>Adventure</th><th scope=col>Animation</th><th scope=col>Children's</th><th scope=col>Comedy</th><th scope=col>Crime</th><th scope=col>Documentary</th><th scope=col>Drama</th><th scope=col>Fantasy</th><th scope=col>Film-Noir</th><th scope=col>Horror</th><th scope=col>Musical</th><th scope=col>Mystery</th><th scope=col>Romance</th><th scope=col>Sci-Fi</th><th scope=col>Thriller</th><th scope=col>War</th><th scope=col>Western</th></tr>\n",
              "\t<tr><th></th><th scope=col>&lt;int&gt;</th><th scope=col>&lt;int&gt;</th><th scope=col>&lt;int&gt;</th><th scope=col>&lt;int&gt;</th><th scope=col>&lt;int&gt;</th><th scope=col>&lt;int&gt;</th><th scope=col>&lt;int&gt;</th><th scope=col>&lt;int&gt;</th><th scope=col>&lt;int&gt;</th><th scope=col>&lt;int&gt;</th><th scope=col>&lt;int&gt;</th><th scope=col>&lt;int&gt;</th><th scope=col>&lt;int&gt;</th><th scope=col>&lt;int&gt;</th><th scope=col>&lt;int&gt;</th><th scope=col>&lt;int&gt;</th><th scope=col>&lt;int&gt;</th><th scope=col>&lt;int&gt;</th><th scope=col>&lt;int&gt;</th></tr>\n",
              "</thead>\n",
              "<tbody>\n",
              "\t<tr><th scope=row>1</th><td>0</td><td>0</td><td>0</td><td>1</td><td>1</td><td>1</td><td>0</td><td>0</td><td>0</td><td>0</td><td>0</td><td>0</td><td>0</td><td>0</td><td>0</td><td>0</td><td>0</td><td>0</td><td>0</td></tr>\n",
              "\t<tr><th scope=row>2</th><td>0</td><td>1</td><td>1</td><td>0</td><td>0</td><td>0</td><td>0</td><td>0</td><td>0</td><td>0</td><td>0</td><td>0</td><td>0</td><td>0</td><td>0</td><td>0</td><td>1</td><td>0</td><td>0</td></tr>\n",
              "\t<tr><th scope=row>3</th><td>0</td><td>0</td><td>0</td><td>0</td><td>0</td><td>0</td><td>0</td><td>0</td><td>0</td><td>0</td><td>0</td><td>0</td><td>0</td><td>0</td><td>0</td><td>0</td><td>1</td><td>0</td><td>0</td></tr>\n",
              "\t<tr><th scope=row>4</th><td>0</td><td>1</td><td>0</td><td>0</td><td>0</td><td>1</td><td>0</td><td>0</td><td>1</td><td>0</td><td>0</td><td>0</td><td>0</td><td>0</td><td>0</td><td>0</td><td>0</td><td>0</td><td>0</td></tr>\n",
              "\t<tr><th scope=row>5</th><td>0</td><td>0</td><td>0</td><td>0</td><td>0</td><td>0</td><td>1</td><td>0</td><td>1</td><td>0</td><td>0</td><td>0</td><td>0</td><td>0</td><td>0</td><td>0</td><td>1</td><td>0</td><td>0</td></tr>\n",
              "\t<tr><th scope=row>6</th><td>0</td><td>0</td><td>0</td><td>0</td><td>0</td><td>0</td><td>0</td><td>0</td><td>1</td><td>0</td><td>0</td><td>0</td><td>0</td><td>0</td><td>0</td><td>0</td><td>0</td><td>0</td><td>0</td></tr>\n",
              "</tbody>\n",
              "</table>\n"
            ],
            "text/markdown": "\nA data.frame: 6 × 19\n\n| <!--/--> | unknown &lt;int&gt; | Action &lt;int&gt; | Adventure &lt;int&gt; | Animation &lt;int&gt; | Children's &lt;int&gt; | Comedy &lt;int&gt; | Crime &lt;int&gt; | Documentary &lt;int&gt; | Drama &lt;int&gt; | Fantasy &lt;int&gt; | Film-Noir &lt;int&gt; | Horror &lt;int&gt; | Musical &lt;int&gt; | Mystery &lt;int&gt; | Romance &lt;int&gt; | Sci-Fi &lt;int&gt; | Thriller &lt;int&gt; | War &lt;int&gt; | Western &lt;int&gt; |\n|---|---|---|---|---|---|---|---|---|---|---|---|---|---|---|---|---|---|---|---|\n| 1 | 0 | 0 | 0 | 1 | 1 | 1 | 0 | 0 | 0 | 0 | 0 | 0 | 0 | 0 | 0 | 0 | 0 | 0 | 0 |\n| 2 | 0 | 1 | 1 | 0 | 0 | 0 | 0 | 0 | 0 | 0 | 0 | 0 | 0 | 0 | 0 | 0 | 1 | 0 | 0 |\n| 3 | 0 | 0 | 0 | 0 | 0 | 0 | 0 | 0 | 0 | 0 | 0 | 0 | 0 | 0 | 0 | 0 | 1 | 0 | 0 |\n| 4 | 0 | 1 | 0 | 0 | 0 | 1 | 0 | 0 | 1 | 0 | 0 | 0 | 0 | 0 | 0 | 0 | 0 | 0 | 0 |\n| 5 | 0 | 0 | 0 | 0 | 0 | 0 | 1 | 0 | 1 | 0 | 0 | 0 | 0 | 0 | 0 | 0 | 1 | 0 | 0 |\n| 6 | 0 | 0 | 0 | 0 | 0 | 0 | 0 | 0 | 1 | 0 | 0 | 0 | 0 | 0 | 0 | 0 | 0 | 0 | 0 |\n\n",
            "text/latex": "A data.frame: 6 × 19\n\\begin{tabular}{r|lllllllllllllllllll}\n  & unknown & Action & Adventure & Animation & Children's & Comedy & Crime & Documentary & Drama & Fantasy & Film-Noir & Horror & Musical & Mystery & Romance & Sci-Fi & Thriller & War & Western\\\\\n  & <int> & <int> & <int> & <int> & <int> & <int> & <int> & <int> & <int> & <int> & <int> & <int> & <int> & <int> & <int> & <int> & <int> & <int> & <int>\\\\\n\\hline\n\t1 & 0 & 0 & 0 & 1 & 1 & 1 & 0 & 0 & 0 & 0 & 0 & 0 & 0 & 0 & 0 & 0 & 0 & 0 & 0\\\\\n\t2 & 0 & 1 & 1 & 0 & 0 & 0 & 0 & 0 & 0 & 0 & 0 & 0 & 0 & 0 & 0 & 0 & 1 & 0 & 0\\\\\n\t3 & 0 & 0 & 0 & 0 & 0 & 0 & 0 & 0 & 0 & 0 & 0 & 0 & 0 & 0 & 0 & 0 & 1 & 0 & 0\\\\\n\t4 & 0 & 1 & 0 & 0 & 0 & 1 & 0 & 0 & 1 & 0 & 0 & 0 & 0 & 0 & 0 & 0 & 0 & 0 & 0\\\\\n\t5 & 0 & 0 & 0 & 0 & 0 & 0 & 1 & 0 & 1 & 0 & 0 & 0 & 0 & 0 & 0 & 0 & 1 & 0 & 0\\\\\n\t6 & 0 & 0 & 0 & 0 & 0 & 0 & 0 & 0 & 1 & 0 & 0 & 0 & 0 & 0 & 0 & 0 & 0 & 0 & 0\\\\\n\\end{tabular}\n",
            "text/plain": [
              "  unknown Action Adventure Animation Children's Comedy Crime Documentary Drama\n",
              "1 0       0      0         1         1          1      0     0           0    \n",
              "2 0       1      1         0         0          0      0     0           0    \n",
              "3 0       0      0         0         0          0      0     0           0    \n",
              "4 0       1      0         0         0          1      0     0           1    \n",
              "5 0       0      0         0         0          0      1     0           1    \n",
              "6 0       0      0         0         0          0      0     0           1    \n",
              "  Fantasy Film-Noir Horror Musical Mystery Romance Sci-Fi Thriller War Western\n",
              "1 0       0         0      0       0       0       0      0        0   0      \n",
              "2 0       0         0      0       0       0       0      1        0   0      \n",
              "3 0       0         0      0       0       0       0      1        0   0      \n",
              "4 0       0         0      0       0       0       0      0        0   0      \n",
              "5 0       0         0      0       0       0       0      1        0   0      \n",
              "6 0       0         0      0       0       0       0      0        0   0      "
            ]
          },
          "metadata": {}
        }
      ],
      "source": [
        "movie.genres <- MovieLenseMeta[,4:22]\n",
        "head(movie.genres)"
      ]
    },
    {
      "cell_type": "code",
      "execution_count": 91,
      "id": "3f2ee470-1ee1-4554-81a8-eb5eaeea5a70",
      "metadata": {
        "colab": {
          "base_uri": "https://localhost:8080/"
        },
        "id": "3f2ee470-1ee1-4554-81a8-eb5eaeea5a70",
        "outputId": "d51509fa-e140-4c82-963c-317cdf8f9be1"
      },
      "outputs": [
        {
          "output_type": "stream",
          "name": "stdout",
          "text": [
            "average rating per genres, for each user:\n"
          ]
        }
      ],
      "source": [
        "ml.train.clean<-ml.train #use this to get the total rating by user for movies in each genre\n",
        "ml.train.clean[is.na(ml.train.clean)] <- 0\n",
        "user.genres.sum <- ml.train.clean %*% as.matrix(movie.genres)\n",
        "ml.train.bin <- ml.train.clean #use this to get the count of movies rated for each genres by each user\n",
        "ml.train.bin[ml.train.bin > 0] <- 1\n",
        "ml.train.bin[ml.train.bin <= 0] <- 0\n",
        "user.genres.count <- abs(ml.train.bin) %*% as.matrix(movie.genres)\n",
        "user.genres <- user.genres.sum / user.genres.count\n",
        "cat(\"average rating per genres, for each user:\\n\")"
      ]
    },
    {
      "cell_type": "code",
      "execution_count": 92,
      "id": "85d17e70-f482-490a-b87e-b463d5ff2f03",
      "metadata": {
        "colab": {
          "base_uri": "https://localhost:8080/",
          "height": 292
        },
        "id": "85d17e70-f482-490a-b87e-b463d5ff2f03",
        "outputId": "1801174f-fea6-4776-cd2f-cfcafeeedc80"
      },
      "outputs": [
        {
          "output_type": "display_data",
          "data": {
            "text/html": [
              "<table class=\"dataframe\">\n",
              "<caption>A matrix: 6 × 19 of type dbl</caption>\n",
              "<thead>\n",
              "\t<tr><th></th><th scope=col>unknown</th><th scope=col>Action</th><th scope=col>Adventure</th><th scope=col>Animation</th><th scope=col>Children's</th><th scope=col>Comedy</th><th scope=col>Crime</th><th scope=col>Documentary</th><th scope=col>Drama</th><th scope=col>Fantasy</th><th scope=col>Film-Noir</th><th scope=col>Horror</th><th scope=col>Musical</th><th scope=col>Mystery</th><th scope=col>Romance</th><th scope=col>Sci-Fi</th><th scope=col>Thriller</th><th scope=col>War</th><th scope=col>Western</th></tr>\n",
              "</thead>\n",
              "<tbody>\n",
              "\t<tr><th scope=row>1</th><td>  4</td><td>3.207547</td><td>2.655172</td><td>3.500000</td><td>2.210526</td><td>3.507246</td><td>3.571429</td><td>4.666667</td><td>4.025641</td><td>3.500000</td><td>5.000000</td><td>3.333333</td><td>2.666667</td><td>3.250000</td><td>3.828571</td><td>3.806452</td><td>3.625000</td><td>3.555556</td><td>3.666667</td></tr>\n",
              "\t<tr><th scope=row>2</th><td>NaN</td><td>3.750000</td><td>4.000000</td><td>4.000000</td><td>2.666667</td><td>3.866667</td><td>3.750000</td><td>     NaN</td><td>3.814815</td><td>3.000000</td><td>5.000000</td><td>3.000000</td><td>3.000000</td><td>3.500000</td><td>4.222222</td><td>3.500000</td><td>3.636364</td><td>3.000000</td><td>     NaN</td></tr>\n",
              "\t<tr><th scope=row>3</th><td>NaN</td><td>2.769231</td><td>3.666667</td><td>     NaN</td><td>     NaN</td><td>2.636364</td><td>3.250000</td><td>5.000000</td><td>2.875000</td><td>     NaN</td><td>     NaN</td><td>2.000000</td><td>2.000000</td><td>3.333333</td><td>3.500000</td><td>2.714286</td><td>2.437500</td><td>2.750000</td><td>     NaN</td></tr>\n",
              "\t<tr><th scope=row>4</th><td>NaN</td><td>3.833333</td><td>3.500000</td><td>     NaN</td><td>     NaN</td><td>5.000000</td><td>4.750000</td><td>     NaN</td><td>4.400000</td><td>     NaN</td><td>     NaN</td><td>4.000000</td><td>     NaN</td><td>4.000000</td><td>5.000000</td><td>3.833333</td><td>4.000000</td><td>4.500000</td><td>     NaN</td></tr>\n",
              "\t<tr><th scope=row>5</th><td>NaN</td><td>3.020000</td><td>3.166667</td><td>3.846154</td><td>2.428571</td><td>2.876712</td><td>3.750000</td><td>     NaN</td><td>2.681818</td><td>2.500000</td><td>5.000000</td><td>2.625000</td><td>3.181818</td><td>3.000000</td><td>2.277778</td><td>3.370370</td><td>2.937500</td><td>3.214286</td><td>2.500000</td></tr>\n",
              "\t<tr><th scope=row>6</th><td>NaN</td><td>3.272727</td><td>3.333333</td><td>3.500000</td><td>2.937500</td><td>3.560000</td><td>3.600000</td><td>4.000000</td><td>3.714286</td><td>2.333333</td><td>4.666667</td><td>4.000000</td><td>3.444444</td><td>4.200000</td><td>3.812500</td><td>3.583333</td><td>3.850000</td><td>3.809524</td><td>3.333333</td></tr>\n",
              "</tbody>\n",
              "</table>\n"
            ],
            "text/markdown": "\nA matrix: 6 × 19 of type dbl\n\n| <!--/--> | unknown | Action | Adventure | Animation | Children's | Comedy | Crime | Documentary | Drama | Fantasy | Film-Noir | Horror | Musical | Mystery | Romance | Sci-Fi | Thriller | War | Western |\n|---|---|---|---|---|---|---|---|---|---|---|---|---|---|---|---|---|---|---|---|\n| 1 |   4 | 3.207547 | 2.655172 | 3.500000 | 2.210526 | 3.507246 | 3.571429 | 4.666667 | 4.025641 | 3.500000 | 5.000000 | 3.333333 | 2.666667 | 3.250000 | 3.828571 | 3.806452 | 3.625000 | 3.555556 | 3.666667 |\n| 2 | NaN | 3.750000 | 4.000000 | 4.000000 | 2.666667 | 3.866667 | 3.750000 |      NaN | 3.814815 | 3.000000 | 5.000000 | 3.000000 | 3.000000 | 3.500000 | 4.222222 | 3.500000 | 3.636364 | 3.000000 |      NaN |\n| 3 | NaN | 2.769231 | 3.666667 |      NaN |      NaN | 2.636364 | 3.250000 | 5.000000 | 2.875000 |      NaN |      NaN | 2.000000 | 2.000000 | 3.333333 | 3.500000 | 2.714286 | 2.437500 | 2.750000 |      NaN |\n| 4 | NaN | 3.833333 | 3.500000 |      NaN |      NaN | 5.000000 | 4.750000 |      NaN | 4.400000 |      NaN |      NaN | 4.000000 |      NaN | 4.000000 | 5.000000 | 3.833333 | 4.000000 | 4.500000 |      NaN |\n| 5 | NaN | 3.020000 | 3.166667 | 3.846154 | 2.428571 | 2.876712 | 3.750000 |      NaN | 2.681818 | 2.500000 | 5.000000 | 2.625000 | 3.181818 | 3.000000 | 2.277778 | 3.370370 | 2.937500 | 3.214286 | 2.500000 |\n| 6 | NaN | 3.272727 | 3.333333 | 3.500000 | 2.937500 | 3.560000 | 3.600000 | 4.000000 | 3.714286 | 2.333333 | 4.666667 | 4.000000 | 3.444444 | 4.200000 | 3.812500 | 3.583333 | 3.850000 | 3.809524 | 3.333333 |\n\n",
            "text/latex": "A matrix: 6 × 19 of type dbl\n\\begin{tabular}{r|lllllllllllllllllll}\n  & unknown & Action & Adventure & Animation & Children's & Comedy & Crime & Documentary & Drama & Fantasy & Film-Noir & Horror & Musical & Mystery & Romance & Sci-Fi & Thriller & War & Western\\\\\n\\hline\n\t1 &   4 & 3.207547 & 2.655172 & 3.500000 & 2.210526 & 3.507246 & 3.571429 & 4.666667 & 4.025641 & 3.500000 & 5.000000 & 3.333333 & 2.666667 & 3.250000 & 3.828571 & 3.806452 & 3.625000 & 3.555556 & 3.666667\\\\\n\t2 & NaN & 3.750000 & 4.000000 & 4.000000 & 2.666667 & 3.866667 & 3.750000 &      NaN & 3.814815 & 3.000000 & 5.000000 & 3.000000 & 3.000000 & 3.500000 & 4.222222 & 3.500000 & 3.636364 & 3.000000 &      NaN\\\\\n\t3 & NaN & 2.769231 & 3.666667 &      NaN &      NaN & 2.636364 & 3.250000 & 5.000000 & 2.875000 &      NaN &      NaN & 2.000000 & 2.000000 & 3.333333 & 3.500000 & 2.714286 & 2.437500 & 2.750000 &      NaN\\\\\n\t4 & NaN & 3.833333 & 3.500000 &      NaN &      NaN & 5.000000 & 4.750000 &      NaN & 4.400000 &      NaN &      NaN & 4.000000 &      NaN & 4.000000 & 5.000000 & 3.833333 & 4.000000 & 4.500000 &      NaN\\\\\n\t5 & NaN & 3.020000 & 3.166667 & 3.846154 & 2.428571 & 2.876712 & 3.750000 &      NaN & 2.681818 & 2.500000 & 5.000000 & 2.625000 & 3.181818 & 3.000000 & 2.277778 & 3.370370 & 2.937500 & 3.214286 & 2.500000\\\\\n\t6 & NaN & 3.272727 & 3.333333 & 3.500000 & 2.937500 & 3.560000 & 3.600000 & 4.000000 & 3.714286 & 2.333333 & 4.666667 & 4.000000 & 3.444444 & 4.200000 & 3.812500 & 3.583333 & 3.850000 & 3.809524 & 3.333333\\\\\n\\end{tabular}\n",
            "text/plain": [
              "  unknown Action   Adventure Animation Children's Comedy   Crime    Documentary\n",
              "1   4     3.207547 2.655172  3.500000  2.210526   3.507246 3.571429 4.666667   \n",
              "2 NaN     3.750000 4.000000  4.000000  2.666667   3.866667 3.750000      NaN   \n",
              "3 NaN     2.769231 3.666667       NaN       NaN   2.636364 3.250000 5.000000   \n",
              "4 NaN     3.833333 3.500000       NaN       NaN   5.000000 4.750000      NaN   \n",
              "5 NaN     3.020000 3.166667  3.846154  2.428571   2.876712 3.750000      NaN   \n",
              "6 NaN     3.272727 3.333333  3.500000  2.937500   3.560000 3.600000 4.000000   \n",
              "  Drama    Fantasy  Film-Noir Horror   Musical  Mystery  Romance  Sci-Fi  \n",
              "1 4.025641 3.500000 5.000000  3.333333 2.666667 3.250000 3.828571 3.806452\n",
              "2 3.814815 3.000000 5.000000  3.000000 3.000000 3.500000 4.222222 3.500000\n",
              "3 2.875000      NaN      NaN  2.000000 2.000000 3.333333 3.500000 2.714286\n",
              "4 4.400000      NaN      NaN  4.000000      NaN 4.000000 5.000000 3.833333\n",
              "5 2.681818 2.500000 5.000000  2.625000 3.181818 3.000000 2.277778 3.370370\n",
              "6 3.714286 2.333333 4.666667  4.000000 3.444444 4.200000 3.812500 3.583333\n",
              "  Thriller War      Western \n",
              "1 3.625000 3.555556 3.666667\n",
              "2 3.636364 3.000000      NaN\n",
              "3 2.437500 2.750000      NaN\n",
              "4 4.000000 4.500000      NaN\n",
              "5 2.937500 3.214286 2.500000\n",
              "6 3.850000 3.809524 3.333333"
            ]
          },
          "metadata": {}
        }
      ],
      "source": [
        "head(user.genres)"
      ]
    },
    {
      "cell_type": "code",
      "execution_count": 93,
      "id": "6cf11a7f-cff8-486b-90ec-f19d80c581b8",
      "metadata": {
        "id": "6cf11a7f-cff8-486b-90ec-f19d80c581b8"
      },
      "outputs": [],
      "source": [
        "rm(ml.train.clean,ml.train.bin,user.genres.count,user.genres.sum)"
      ]
    },
    {
      "cell_type": "code",
      "execution_count": 94,
      "id": "29f1ed4c-3043-43c9-baa8-dbf1f73ad14b",
      "metadata": {
        "colab": {
          "base_uri": "https://localhost:8080/"
        },
        "id": "29f1ed4c-3043-43c9-baa8-dbf1f73ad14b",
        "outputId": "f6cfecf4-48ea-4533-fffe-0c0b201977c1"
      },
      "outputs": [
        {
          "output_type": "stream",
          "name": "stdout",
          "text": [
            "genres associated with each user:\n"
          ]
        }
      ],
      "source": [
        "user.genres.diff <- user.genres - userMeanRatings #subtract the mean ratings for each user\n",
        "user.genres.bin <- user.genres.diff #use this to determine if above mean or below mean\n",
        "user.genres.bin[user.genres.diff<0] <- 0 #map entries below 0 to a '0'\n",
        "user.genres.bin[user.genres.diff>=0] <- 1 #map entries above 0 to a '1'\n",
        "user.genres.bin[is.na(user.genres.bin)] <- 0 #map the genres for which we have no information to a '0'\n",
        "cat(\"genres associated with each user:\\n\")\n"
      ]
    },
    {
      "cell_type": "code",
      "execution_count": 95,
      "id": "4f1e45b0-53d3-4b16-be98-75f3a06a7d09",
      "metadata": {
        "colab": {
          "base_uri": "https://localhost:8080/",
          "height": 292
        },
        "id": "4f1e45b0-53d3-4b16-be98-75f3a06a7d09",
        "outputId": "da4fb9dc-e046-4cec-91b1-5b91c6f3f8ea"
      },
      "outputs": [
        {
          "output_type": "display_data",
          "data": {
            "text/html": [
              "<table class=\"dataframe\">\n",
              "<caption>A matrix: 6 × 19 of type dbl</caption>\n",
              "<thead>\n",
              "\t<tr><th></th><th scope=col>unknown</th><th scope=col>Action</th><th scope=col>Adventure</th><th scope=col>Animation</th><th scope=col>Children's</th><th scope=col>Comedy</th><th scope=col>Crime</th><th scope=col>Documentary</th><th scope=col>Drama</th><th scope=col>Fantasy</th><th scope=col>Film-Noir</th><th scope=col>Horror</th><th scope=col>Musical</th><th scope=col>Mystery</th><th scope=col>Romance</th><th scope=col>Sci-Fi</th><th scope=col>Thriller</th><th scope=col>War</th><th scope=col>Western</th></tr>\n",
              "</thead>\n",
              "<tbody>\n",
              "\t<tr><th scope=row>1</th><td>1</td><td>0</td><td>0</td><td>0</td><td>0</td><td>0</td><td>0</td><td>1</td><td>1</td><td>0</td><td>1</td><td>0</td><td>0</td><td>0</td><td>1</td><td>1</td><td>1</td><td>0</td><td>1</td></tr>\n",
              "\t<tr><th scope=row>2</th><td>0</td><td>1</td><td>1</td><td>1</td><td>0</td><td>1</td><td>1</td><td>0</td><td>1</td><td>0</td><td>1</td><td>0</td><td>0</td><td>0</td><td>1</td><td>0</td><td>0</td><td>0</td><td>0</td></tr>\n",
              "\t<tr><th scope=row>3</th><td>0</td><td>1</td><td>1</td><td>0</td><td>0</td><td>0</td><td>1</td><td>1</td><td>1</td><td>0</td><td>0</td><td>0</td><td>0</td><td>1</td><td>1</td><td>0</td><td>0</td><td>0</td><td>0</td></tr>\n",
              "\t<tr><th scope=row>4</th><td>0</td><td>0</td><td>0</td><td>0</td><td>0</td><td>1</td><td>1</td><td>0</td><td>1</td><td>0</td><td>0</td><td>0</td><td>0</td><td>0</td><td>1</td><td>0</td><td>0</td><td>1</td><td>0</td></tr>\n",
              "\t<tr><th scope=row>5</th><td>0</td><td>1</td><td>1</td><td>1</td><td>0</td><td>1</td><td>1</td><td>0</td><td>0</td><td>0</td><td>1</td><td>0</td><td>1</td><td>1</td><td>0</td><td>1</td><td>1</td><td>1</td><td>0</td></tr>\n",
              "\t<tr><th scope=row>6</th><td>0</td><td>0</td><td>0</td><td>0</td><td>0</td><td>0</td><td>0</td><td>1</td><td>1</td><td>0</td><td>1</td><td>1</td><td>0</td><td>1</td><td>1</td><td>0</td><td>1</td><td>1</td><td>0</td></tr>\n",
              "</tbody>\n",
              "</table>\n"
            ],
            "text/markdown": "\nA matrix: 6 × 19 of type dbl\n\n| <!--/--> | unknown | Action | Adventure | Animation | Children's | Comedy | Crime | Documentary | Drama | Fantasy | Film-Noir | Horror | Musical | Mystery | Romance | Sci-Fi | Thriller | War | Western |\n|---|---|---|---|---|---|---|---|---|---|---|---|---|---|---|---|---|---|---|---|\n| 1 | 1 | 0 | 0 | 0 | 0 | 0 | 0 | 1 | 1 | 0 | 1 | 0 | 0 | 0 | 1 | 1 | 1 | 0 | 1 |\n| 2 | 0 | 1 | 1 | 1 | 0 | 1 | 1 | 0 | 1 | 0 | 1 | 0 | 0 | 0 | 1 | 0 | 0 | 0 | 0 |\n| 3 | 0 | 1 | 1 | 0 | 0 | 0 | 1 | 1 | 1 | 0 | 0 | 0 | 0 | 1 | 1 | 0 | 0 | 0 | 0 |\n| 4 | 0 | 0 | 0 | 0 | 0 | 1 | 1 | 0 | 1 | 0 | 0 | 0 | 0 | 0 | 1 | 0 | 0 | 1 | 0 |\n| 5 | 0 | 1 | 1 | 1 | 0 | 1 | 1 | 0 | 0 | 0 | 1 | 0 | 1 | 1 | 0 | 1 | 1 | 1 | 0 |\n| 6 | 0 | 0 | 0 | 0 | 0 | 0 | 0 | 1 | 1 | 0 | 1 | 1 | 0 | 1 | 1 | 0 | 1 | 1 | 0 |\n\n",
            "text/latex": "A matrix: 6 × 19 of type dbl\n\\begin{tabular}{r|lllllllllllllllllll}\n  & unknown & Action & Adventure & Animation & Children's & Comedy & Crime & Documentary & Drama & Fantasy & Film-Noir & Horror & Musical & Mystery & Romance & Sci-Fi & Thriller & War & Western\\\\\n\\hline\n\t1 & 1 & 0 & 0 & 0 & 0 & 0 & 0 & 1 & 1 & 0 & 1 & 0 & 0 & 0 & 1 & 1 & 1 & 0 & 1\\\\\n\t2 & 0 & 1 & 1 & 1 & 0 & 1 & 1 & 0 & 1 & 0 & 1 & 0 & 0 & 0 & 1 & 0 & 0 & 0 & 0\\\\\n\t3 & 0 & 1 & 1 & 0 & 0 & 0 & 1 & 1 & 1 & 0 & 0 & 0 & 0 & 1 & 1 & 0 & 0 & 0 & 0\\\\\n\t4 & 0 & 0 & 0 & 0 & 0 & 1 & 1 & 0 & 1 & 0 & 0 & 0 & 0 & 0 & 1 & 0 & 0 & 1 & 0\\\\\n\t5 & 0 & 1 & 1 & 1 & 0 & 1 & 1 & 0 & 0 & 0 & 1 & 0 & 1 & 1 & 0 & 1 & 1 & 1 & 0\\\\\n\t6 & 0 & 0 & 0 & 0 & 0 & 0 & 0 & 1 & 1 & 0 & 1 & 1 & 0 & 1 & 1 & 0 & 1 & 1 & 0\\\\\n\\end{tabular}\n",
            "text/plain": [
              "  unknown Action Adventure Animation Children's Comedy Crime Documentary Drama\n",
              "1 1       0      0         0         0          0      0     1           1    \n",
              "2 0       1      1         1         0          1      1     0           1    \n",
              "3 0       1      1         0         0          0      1     1           1    \n",
              "4 0       0      0         0         0          1      1     0           1    \n",
              "5 0       1      1         1         0          1      1     0           0    \n",
              "6 0       0      0         0         0          0      0     1           1    \n",
              "  Fantasy Film-Noir Horror Musical Mystery Romance Sci-Fi Thriller War Western\n",
              "1 0       1         0      0       0       1       1      1        0   1      \n",
              "2 0       1         0      0       0       1       0      0        0   0      \n",
              "3 0       0         0      0       1       1       0      0        0   0      \n",
              "4 0       0         0      0       0       1       0      0        1   0      \n",
              "5 0       1         0      1       1       0       1      1        1   0      \n",
              "6 0       1         1      0       1       1       0      1        1   0      "
            ]
          },
          "metadata": {}
        }
      ],
      "source": [
        "head(user.genres.bin)"
      ]
    },
    {
      "cell_type": "code",
      "execution_count": 96,
      "id": "e167de8d-12a1-4ff0-982b-200a6922fde6",
      "metadata": {
        "colab": {
          "base_uri": "https://localhost:8080/"
        },
        "id": "e167de8d-12a1-4ff0-982b-200a6922fde6",
        "outputId": "a857ecc5-c01a-4990-99a0-4b878568f138"
      },
      "outputs": [
        {
          "output_type": "stream",
          "name": "stdout",
          "text": [
            "distribution on recommender scores for user 2 (higher is a movie predicted to be more preferred):\n"
          ]
        }
      ],
      "source": [
        "if (!requireNamespace(\"proxy\", quietly = TRUE)) {\n",
        "  install.packages(\"proxy\")\n",
        "}\n",
        "\n",
        "# Load the proxy package\n",
        "library(proxy)\n",
        "\n",
        "user.num <- 2 #do this for user 2\n",
        "user.score <- vector(mode = \"numeric\", length = 1664) #create a blank vector\n",
        "for (i in 1:1664){\n",
        "x <- rbind(user.genres.bin[user.num,], movie.genres[i,])\n",
        "user.score[i] <- proxy::dist(x, method = \"cosine\") #compute cosine similarity between movie i and this user\n",
        "\n",
        "}\n",
        "cat(\"distribution on recommender scores for user 2 (higher is a movie predicted to be more preferred):\\n\")"
      ]
    },
    {
      "cell_type": "code",
      "execution_count": 97,
      "id": "4957dd66-03fc-42b8-81b9-48b1ee217387",
      "metadata": {
        "colab": {
          "base_uri": "https://localhost:8080/",
          "height": 52
        },
        "id": "4957dd66-03fc-42b8-81b9-48b1ee217387",
        "outputId": "0f543407-c64e-4222-ea33-2880ae2e0fdd"
      },
      "outputs": [
        {
          "output_type": "display_data",
          "data": {
            "text/plain": [
              "   Min. 1st Qu.  Median    Mean 3rd Qu.    Max. \n",
              " 0.2929  0.5918  0.6464  0.6745  0.7500  1.0000 "
            ]
          },
          "metadata": {}
        }
      ],
      "source": [
        "summary(user.score)\n"
      ]
    },
    {
      "cell_type": "code",
      "execution_count": 98,
      "id": "1dbf5ac1-57b1-4fc5-9a0e-340ad7d8e8e9",
      "metadata": {
        "colab": {
          "base_uri": "https://localhost:8080/"
        },
        "id": "1dbf5ac1-57b1-4fc5-9a0e-340ad7d8e8e9",
        "outputId": "70fa8eef-2aff-46a9-e2be-770745ca3ef7"
      },
      "outputs": [
        {
          "output_type": "stream",
          "name": "stdout",
          "text": [
            "Top 10 movies for user 2 according to content-based recommender:\n"
          ]
        }
      ],
      "source": [
        "best.movies <- head(order(user.score, decreasing=TRUE), 10) #get the top 10 ranked movies for this user\n",
        "cat(\"Top 10 movies for user 2 according to content-based recommender:\\n\")"
      ]
    },
    {
      "cell_type": "code",
      "execution_count": 99,
      "id": "3e27f7da-235f-4d28-b643-6638db279572",
      "metadata": {
        "colab": {
          "base_uri": "https://localhost:8080/",
          "height": 86
        },
        "id": "3e27f7da-235f-4d28-b643-6638db279572",
        "outputId": "df527184-1e67-4062-958a-09c58d126302"
      },
      "outputs": [
        {
          "output_type": "display_data",
          "data": {
            "text/html": [
              "<style>\n",
              ".list-inline {list-style: none; margin:0; padding: 0}\n",
              ".list-inline>li {display: inline-block}\n",
              ".list-inline>li:not(:last-child)::after {content: \"\\00b7\"; padding: 0 .5ex}\n",
              "</style>\n",
              "<ol class=list-inline><li>'Four Rooms (1995)'</li><li>'Crumb (1994)'</li><li>'Net, The (1995)'</li><li>'Hoop Dreams (1994)'</li><li>'Brother Minister: The Assassination of Malcolm X (1994)'</li><li>'Robert A. Heinlein\\'s The Puppet Masters (1994)'</li><li>'Haunted World of Edward D. Wood Jr., The (1995)'</li><li>'Maya Lin: A Strong Clear Vision (1994)'</li><li>'Sound of Music, The (1965)'</li><li>'Basic Instinct (1992)'</li></ol>\n"
            ],
            "text/markdown": "1. 'Four Rooms (1995)'\n2. 'Crumb (1994)'\n3. 'Net, The (1995)'\n4. 'Hoop Dreams (1994)'\n5. 'Brother Minister: The Assassination of Malcolm X (1994)'\n6. 'Robert A. Heinlein\\'s The Puppet Masters (1994)'\n7. 'Haunted World of Edward D. Wood Jr., The (1995)'\n8. 'Maya Lin: A Strong Clear Vision (1994)'\n9. 'Sound of Music, The (1965)'\n10. 'Basic Instinct (1992)'\n\n\n",
            "text/latex": "\\begin{enumerate*}\n\\item 'Four Rooms (1995)'\n\\item 'Crumb (1994)'\n\\item 'Net, The (1995)'\n\\item 'Hoop Dreams (1994)'\n\\item 'Brother Minister: The Assassination of Malcolm X (1994)'\n\\item 'Robert A. Heinlein\\textbackslash{}'s The Puppet Masters (1994)'\n\\item 'Haunted World of Edward D. Wood Jr., The (1995)'\n\\item 'Maya Lin: A Strong Clear Vision (1994)'\n\\item 'Sound of Music, The (1965)'\n\\item 'Basic Instinct (1992)'\n\\end{enumerate*}\n",
            "text/plain": [
              " [1] \"Four Rooms (1995)\"                                      \n",
              " [2] \"Crumb (1994)\"                                           \n",
              " [3] \"Net, The (1995)\"                                        \n",
              " [4] \"Hoop Dreams (1994)\"                                     \n",
              " [5] \"Brother Minister: The Assassination of Malcolm X (1994)\"\n",
              " [6] \"Robert A. Heinlein's The Puppet Masters (1994)\"         \n",
              " [7] \"Haunted World of Edward D. Wood Jr., The (1995)\"        \n",
              " [8] \"Maya Lin: A Strong Clear Vision (1994)\"                 \n",
              " [9] \"Sound of Music, The (1965)\"                             \n",
              "[10] \"Basic Instinct (1992)\"                                  "
            ]
          },
          "metadata": {}
        }
      ],
      "source": [
        "MovieLenseMeta[best.movies,1] #get the names of these movies"
      ]
    },
    {
      "cell_type": "code",
      "execution_count": 100,
      "id": "30436313-46f6-4c36-ba3d-8fb65a6de815",
      "metadata": {
        "colab": {
          "base_uri": "https://localhost:8080/",
          "height": 272
        },
        "id": "30436313-46f6-4c36-ba3d-8fb65a6de815",
        "outputId": "22ef16c2-0144-4d64-fe9f-6324356ee45b"
      },
      "outputs": [
        {
          "output_type": "display_data",
          "data": {
            "text/html": [
              "<table class=\"dataframe\">\n",
              "<caption>A data.frame: 5 × 2</caption>\n",
              "<thead>\n",
              "\t<tr><th scope=col>Var1</th><th scope=col>Freq</th></tr>\n",
              "\t<tr><th scope=col>&lt;fct&gt;</th><th scope=col>&lt;dbl&gt;</th></tr>\n",
              "</thead>\n",
              "<tbody>\n",
              "\t<tr><td>1</td><td>0.08</td></tr>\n",
              "\t<tr><td>2</td><td>0.02</td></tr>\n",
              "\t<tr><td>3</td><td>0.26</td></tr>\n",
              "\t<tr><td>4</td><td>0.42</td></tr>\n",
              "\t<tr><td>5</td><td>0.22</td></tr>\n",
              "</tbody>\n",
              "</table>\n"
            ],
            "text/markdown": "\nA data.frame: 5 × 2\n\n| Var1 &lt;fct&gt; | Freq &lt;dbl&gt; |\n|---|---|\n| 1 | 0.08 |\n| 2 | 0.02 |\n| 3 | 0.26 |\n| 4 | 0.42 |\n| 5 | 0.22 |\n\n",
            "text/latex": "A data.frame: 5 × 2\n\\begin{tabular}{ll}\n Var1 & Freq\\\\\n <fct> & <dbl>\\\\\n\\hline\n\t 1 & 0.08\\\\\n\t 2 & 0.02\\\\\n\t 3 & 0.26\\\\\n\t 4 & 0.42\\\\\n\t 5 & 0.22\\\\\n\\end{tabular}\n",
            "text/plain": [
              "  Var1 Freq\n",
              "1 1    0.08\n",
              "2 2    0.02\n",
              "3 3    0.26\n",
              "4 4    0.42\n",
              "5 5    0.22"
            ]
          },
          "metadata": {}
        }
      ],
      "source": [
        "freq <-as.data.frame(table(ml.train[2,]))\n",
        "freq$Freq <- freq$Freq / length(ml.train[2,][!(is.na(ml.train[2,]))])\n",
        "freq"
      ]
    },
    {
      "cell_type": "code",
      "execution_count": 101,
      "id": "3dd7bb98-f888-4da6-99c2-fcfffbdca8ad",
      "metadata": {
        "colab": {
          "base_uri": "https://localhost:8080/"
        },
        "id": "3dd7bb98-f888-4da6-99c2-fcfffbdca8ad",
        "outputId": "9411094f-bf3a-4deb-e034-714c7b49c648"
      },
      "outputs": [
        {
          "output_type": "stream",
          "name": "stdout",
          "text": [
            "The RMSE using the content-based recommender system is 1.588"
          ]
        }
      ],
      "source": [
        "\n",
        "y_hat <- c()\n",
        "y <- c()\n",
        "ml.test.copy <- ml.test\n",
        "#for each user\n",
        "for (user.num in 1:943){ #943\n",
        "user.score <- vector(mode = \"numeric\", length = 1664) #create a blank vector\n",
        "test.movies <- which(!is.na(ml.test[user.num,]))\n",
        "#for each movie in the test set for that user\n",
        "for (i in test.movies){\n",
        "x <- rbind(user.genres.bin[user.num,], movie.genres[i,])\n",
        "user.score[i] <- proxy::dist(x, method = \"cosine\") #compute cosine similarity for movie i\n",
        "}\n",
        "ml.test.copy[user.num, test.movies] <- user.score[test.movies]\n",
        "#calculate the frequency of each rating in user's training set\n",
        "freq <-as.data.frame(table(ml.train[user.num,]))\n",
        "freq$Freq <- freq$Freq / length(ml.train[user.num,][!(is.na(ml.train[user.num,]))])\n",
        "ordered_ratings <- ml.test.copy[user.num, test.movies][order(ml.test.copy[user.num, test.movies], decreasing=FALSE)]\n",
        "freq$Freq <- round(freq$Freq * length(ordered_ratings))\n",
        "#assign numerical rankings based on ordering by recommender score\n",
        "for (i in seq_along(freq$Var1)){\n",
        "for (x in 1:freq$Freq[[i]]){\n",
        "#rounding may result in slightly more than length\n",
        "    if ((x + sum(freq$Freq[0:(i-1)]))<=length(ordered_ratings)){\n",
        "#need to convert levels back to numeric\n",
        "ordered_ratings[x + sum(freq$Freq[0:(i-1)])] <-\n",
        "as.numeric(levels(freq$Var1[[i]]))[freq$Var1[[i]]]\n",
        "}\n",
        "}\n",
        "}\n",
        "\n",
        "\n",
        "\n",
        "\n",
        "y_hat <- c(y_hat, ordered_ratings) #lowest first\n",
        "y <- c(y, ml.test[user.num, test.movies][order(ml.test.copy[user.num, test.movies], decreasing=FALSE)]) #get true ratings, in same order\n",
        "#cat(\"user\",user.num,\"rmse\",rmse(y, y_hat),\"\\n\")\n",
        "}\n",
        "cat(\"The RMSE using the content-based recommender system is\",round(rmse(y, y_hat),digits=3))"
      ]
    },
    {
      "cell_type": "code",
      "execution_count": 102,
      "id": "23848909-1c1a-421d-ab23-39cdaca947b0",
      "metadata": {
        "id": "23848909-1c1a-421d-ab23-39cdaca947b0"
      },
      "outputs": [],
      "source": []
    },
    {
      "cell_type": "code",
      "execution_count": 103,
      "id": "e8252458-7a57-457e-a459-96d703f54596",
      "metadata": {
        "colab": {
          "base_uri": "https://localhost:8080/"
        },
        "id": "e8252458-7a57-457e-a459-96d703f54596",
        "outputId": "b1767624-29b7-44bb-83ae-01d7e3ebdc0e"
      },
      "outputs": [
        {
          "output_type": "stream",
          "name": "stdout",
          "text": [
            "The RMSE using the content-based recommender system is 1.588"
          ]
        }
      ],
      "source": [
        "cat(\"The RMSE using the content-based recommender system is\",round(rmse(y, y_hat),digits=3))"
      ]
    },
    {
      "cell_type": "code",
      "execution_count": 104,
      "id": "cf44c981-006d-44e0-bfac-1d4b2e6a51e9",
      "metadata": {
        "colab": {
          "base_uri": "https://localhost:8080/"
        },
        "id": "cf44c981-006d-44e0-bfac-1d4b2e6a51e9",
        "outputId": "3934c05f-87f3-4d01-e4e5-dbb69c7f7a92"
      },
      "outputs": [
        {
          "output_type": "stream",
          "name": "stdout",
          "text": [
            "$`0`\n",
            " [1] \"Ace Ventura: Pet Detective (1994)\"                  \n",
            " [2] \"Maverick (1994)\"                                    \n",
            " [3] \"Houseguest (1994)\"                                  \n",
            " [4] \"Alice in Wonderland (1951)\"                         \n",
            " [5] \"Another Stakeout (1993)\"                            \n",
            " [6] \"City Slickers II: The Legend of Curly's Gold (1994)\"\n",
            " [7] \"American President, The (1995)\"                     \n",
            " [8] \"French Kiss (1995)\"                                 \n",
            " [9] \"It Could Happen to You (1994)\"                      \n",
            "[10] \"Pollyanna (1960)\"                                   \n",
            "\n"
          ]
        }
      ],
      "source": [
        "user.num <- 2\n",
        "model.ubcf<- Recommender(as(ml.train, \"realRatingMatrix\"), method = \"UBCF\",\n",
        "param=list(normalize = \"center\", method=\"Cosine\", nn=30))\n",
        "#the following uses the entries in ml.train to predict missing ratings, and returns the top-10 list\n",
        "recs.ubcf <- predict(model.ubcf, as(ml.train, \"realRatingMatrix\")[user.num], n=10, type=\"topNList\")\n",
        "print(as(recs.ubcf, \"list\"))\n"
      ]
    },
    {
      "cell_type": "code",
      "execution_count": 105,
      "id": "8bd2d40b-ba25-48e3-bac6-861992655aca",
      "metadata": {
        "colab": {
          "base_uri": "https://localhost:8080/"
        },
        "id": "8bd2d40b-ba25-48e3-bac6-861992655aca",
        "outputId": "06a5eb4a-7a57-40ca-886b-5caf4ae99d6b"
      },
      "outputs": [
        {
          "output_type": "stream",
          "name": "stdout",
          "text": [
            "$`0`\n",
            " [1] \"I Don't Want to Talk About It (De eso no se habla) (1993)\"\n",
            " [2] \"All Things Fair (1996)\"                                   \n",
            " [3] \"Scarlet Letter, The (1926)\"                               \n",
            " [4] \"Death in Brunswick (1991)\"                                \n",
            " [5] \"Bitter Sugar (Azucar Amargo) (1996)\"                      \n",
            " [6] \"Getting Away With Murder (1996)\"                          \n",
            " [7] \"Mamma Roma (1962)\"                                        \n",
            " [8] \"Boys, Les (1997)\"                                         \n",
            " [9] \"They Made Me a Criminal (1939)\"                           \n",
            "[10] \"Johnny 100 Pesos (1993)\"                                  \n",
            "\n"
          ]
        }
      ],
      "source": [
        "model.ibcf<- Recommender(as(ml.train, \"realRatingMatrix\"), method = \"IBCF\",\n",
        "param=list(normalize = \"center\", method=\"Cosine\", k=60))\n",
        "#the following uses the entries in ml.train to predict missing ratings, and returns the top-10 list\n",
        "recs.ibcf <- predict(model.ibcf, as(ml.train, \"realRatingMatrix\")[user.num], n=10, type=\"topNList\")\n",
        "print(as(recs.ibcf, \"list\"))\n"
      ]
    },
    {
      "cell_type": "code",
      "execution_count": 106,
      "id": "5a531317-0d95-48bf-912a-718f27203aa6",
      "metadata": {
        "colab": {
          "base_uri": "https://localhost:8080/"
        },
        "id": "5a531317-0d95-48bf-912a-718f27203aa6",
        "outputId": "896ebf8d-c92b-44be-f2b6-f0535313dbc7"
      },
      "outputs": [
        {
          "output_type": "stream",
          "name": "stdout",
          "text": [
            "Performance of user-user CF:\n"
          ]
        }
      ],
      "source": [
        "#the following fills in predictions for missing ratings in ml.train.\n",
        "recs.ubcf <- predict(model.ubcf, as(ml.train, \"realRatingMatrix\"), type=\"ratings\")\n",
        "#this calculcates errors with respect to the data in ml.test\n",
        "error.ubcf<-calcPredictionAccuracy(recs.ubcf, as(ml.test, \"realRatingMatrix\"))\n",
        "#MAE (mean average error), MSE (means squared error) and RMSE (root means squared error)\n",
        "cat(\"Performance of user-user CF:\\n\")"
      ]
    },
    {
      "cell_type": "code",
      "execution_count": 107,
      "id": "65b0fa20-4af3-4d7d-85f5-2372fc830b5a",
      "metadata": {
        "colab": {
          "base_uri": "https://localhost:8080/"
        },
        "id": "65b0fa20-4af3-4d7d-85f5-2372fc830b5a",
        "outputId": "99834a3e-7ec2-41ac-c996-84c6522de5a7"
      },
      "outputs": [
        {
          "output_type": "stream",
          "name": "stdout",
          "text": [
            "     RMSE       MSE       MAE \n",
            "1.2385202 1.5339323 0.9619183 \n"
          ]
        }
      ],
      "source": [
        "print(error.ubcf)"
      ]
    },
    {
      "cell_type": "code",
      "execution_count": 108,
      "id": "de6570c7-c642-40d8-8952-05cea2cdfc08",
      "metadata": {
        "colab": {
          "base_uri": "https://localhost:8080/"
        },
        "id": "de6570c7-c642-40d8-8952-05cea2cdfc08",
        "outputId": "935bac4e-aff8-4ead-b74e-4430ea6c3e99"
      },
      "outputs": [
        {
          "output_type": "stream",
          "name": "stdout",
          "text": [
            "\n",
            "Performance of item-item CF:\n"
          ]
        }
      ],
      "source": [
        "rm(recs.ubcf,error.ubcf,model.ubcf)\n",
        "recs.ibcf <- predict(model.ibcf, as(ml.train, \"realRatingMatrix\"), type=\"ratings\")\n",
        "error.ibcf<-calcPredictionAccuracy(recs.ibcf, as(ml.test, \"realRatingMatrix\"))\n",
        "#MAE (mean average error), MSE (means squared error) and RMSE (root means squared error)\n",
        "cat(\"\\nPerformance of item-item CF:\\n\")"
      ]
    },
    {
      "cell_type": "code",
      "source": [
        "print(error.ibcf)"
      ],
      "metadata": {
        "colab": {
          "base_uri": "https://localhost:8080/"
        },
        "id": "9mgQtcAqRvm4",
        "outputId": "58cd91ca-568a-493e-fe76-f1997b1f1983"
      },
      "id": "9mgQtcAqRvm4",
      "execution_count": 109,
      "outputs": [
        {
          "output_type": "stream",
          "name": "stdout",
          "text": [
            "    RMSE      MSE      MAE \n",
            "1.391879 1.937328 1.051690 \n"
          ]
        }
      ]
    },
    {
      "cell_type": "code",
      "execution_count": 110,
      "id": "7109a085-687e-48bf-8989-db8d85945062",
      "metadata": {
        "colab": {
          "base_uri": "https://localhost:8080/"
        },
        "id": "7109a085-687e-48bf-8989-db8d85945062",
        "outputId": "10daeaa9-914a-49af-ed55-53ac6eee160b"
      },
      "outputs": [
        {
          "output_type": "stream",
          "name": "stdout",
          "text": [
            "iter      tr_rmse          obj\n",
            "   0       0.6241   4.0629e+02\n",
            "   1       0.8779   7.6091e+02\n",
            "   2       0.8730   7.4979e+02\n",
            "   3       0.8722   7.5018e+02\n",
            "   4       0.8700   7.4420e+02\n",
            "   5       0.8711   7.4940e+02\n",
            "   6       0.8692   7.4927e+02\n",
            "   7       0.8683   7.4485e+02\n",
            "   8       0.8674   7.4004e+02\n",
            "   9       0.8679   7.3978e+02\n",
            "  10       0.8690   7.4441e+02\n",
            "  11       0.8678   7.4311e+02\n",
            "  12       0.8669   7.3932e+02\n",
            "  13       0.8680   7.4382e+02\n",
            "  14       0.8660   7.4498e+02\n",
            "  15       0.8656   7.3530e+02\n",
            "  16       0.8667   7.4039e+02\n",
            "  17       0.8656   7.4475e+02\n",
            "  18       0.8671   7.4307e+02\n",
            "  19       0.8659   7.4177e+02\n"
          ]
        }
      ],
      "source": [
        "\n",
        "rm(recs.ibcf,error.ibcf,model.ibcf)\n",
        "#prepare the data into sparse triple format, setting NAs to 0\n",
        "ml.train.removeNA <- ml.train\n",
        "ml.train.removeNA[is.na(ml.train.removeNA)] <- 0\n",
        "ml.test.removeNA <- ml.test\n",
        "ml.test.removeNA[is.na(ml.test.removeNA)] <- 0\n",
        "#transform to dgtMatrix (sparse) and then to triplets (user, item, rating)\n",
        "data.train <- as(as(as(ml.train.removeNA, \"dMatrix\"), \"generalMatrix\"), \"TsparseMatrix\")\n",
        "data.test <- as(as(as(ml.test.removeNA, \"dMatrix\"), \"generalMatrix\"), \"TsparseMatrix\")\n",
        "\n",
        "\n",
        "model = Reco()\n",
        "train_set = data_memory(user_index = data.train[,1], item_index = data.train[,2], rating=data.train[,3], index1 = TRUE)\n",
        "test_set = data_memory(user_index = data.test[,1], item_index = data.test[,2], rating=data.test[,3], index1 = TRUE)\n",
        "model$train(train_set, opts = list(dim = 20,\n",
        "costp_l1 = 0, costp_l2 = 0.1,\n",
        "costq_l1 = 0, costq_l2 = 0.1,\n",
        "niter = 20,\n",
        "nthread = 4))"
      ]
    },
    {
      "cell_type": "code",
      "execution_count": 111,
      "id": "c18bda95-661e-4dc9-892c-5a36ea1d4ce2",
      "metadata": {
        "colab": {
          "base_uri": "https://localhost:8080/"
        },
        "id": "c18bda95-661e-4dc9-892c-5a36ea1d4ce2",
        "outputId": "6657470e-7a2b-42a9-9bf6-218a9c2a2e40"
      },
      "outputs": [
        {
          "output_type": "stream",
          "name": "stdout",
          "text": [
            "\n",
            "RMSE of the matrix factorization method on the MovieLens data is 0.477"
          ]
        }
      ],
      "source": [
        "preds = model$predict(test_set, out_memory())\n",
        "cat(\"\\nRMSE of the matrix factorization method on the MovieLens data is\", round(sqrt(mean((data.test[,3] - preds)^2)), digits = 3))\n"
      ]
    },
    {
      "cell_type": "code",
      "execution_count": 113,
      "id": "266008e8-1ddd-486b-9d50-139c00e6fa8e",
      "metadata": {
        "id": "266008e8-1ddd-486b-9d50-139c00e6fa8e"
      },
      "outputs": [],
      "source": [
        "rm(preds)\n"
      ]
    },
    {
      "cell_type": "code",
      "execution_count": 114,
      "id": "d00fdfb1-d44d-49a9-979d-592a2b01dec4",
      "metadata": {
        "id": "d00fdfb1-d44d-49a9-979d-592a2b01dec4"
      },
      "outputs": [],
      "source": [
        "rm(ml.test,ml.train,ml.train.removeNA, ml.test.removeNA,data.train,data.test,train_set,test_set,model)\n"
      ]
    },
    {
      "cell_type": "code",
      "execution_count": 120,
      "id": "bb2854d1-961a-49e6-8d2f-a442f6ea9bb6",
      "metadata": {
        "colab": {
          "base_uri": "https://localhost:8080/"
        },
        "id": "bb2854d1-961a-49e6-8d2f-a442f6ea9bb6",
        "outputId": "c5d2e815-29c6-4ec0-b261-25ad38a87f8f"
      },
      "outputs": [
        {
          "output_type": "stream",
          "name": "stderr",
          "text": [
            "Installing package into ‘/usr/local/lib/R/site-library’\n",
            "(as ‘lib’ is unspecified)\n",
            "\n",
            "also installing the dependency ‘plyr’\n",
            "\n",
            "\n"
          ]
        }
      ],
      "source": [
        "install.packages(\"reshape2\")\n",
        "library(\"reshape2\")\n",
        "\n",
        "#Borrowed from https://publish.illinois.edu/liangf/teaching/stat-542/stat-542-lectures/\n",
        "ratings = read.csv('ratings.dat', sep = ':',\n",
        "colClasses = c('numeric', 'NULL'), header = FALSE)\n",
        "colnames(ratings) = c('UserID', 'MovieID', 'Rating', 'Timestamp')\n",
        "ratings$Timestamp = NULL;"
      ]
    },
    {
      "cell_type": "code",
      "execution_count": 121,
      "id": "f7b878db-2d14-414d-acdc-ea68541b81e9",
      "metadata": {
        "colab": {
          "base_uri": "https://localhost:8080/",
          "height": 164
        },
        "id": "f7b878db-2d14-414d-acdc-ea68541b81e9",
        "outputId": "3785b728-dafe-45c9-cd21-7493eba71ce5"
      },
      "outputs": [
        {
          "output_type": "stream",
          "name": "stderr",
          "text": [
            "Using rating as value column: use value.var to override.\n",
            "\n"
          ]
        },
        {
          "output_type": "display_data",
          "data": {
            "text/html": [
              "<table class=\"dataframe\">\n",
              "<caption>A matrix: 2 × 6 of type dbl</caption>\n",
              "<thead>\n",
              "\t<tr><th></th><th scope=col>used</th><th scope=col>(Mb)</th><th scope=col>gc trigger</th><th scope=col>(Mb)</th><th scope=col>max used</th><th scope=col>(Mb)</th></tr>\n",
              "</thead>\n",
              "<tbody>\n",
              "\t<tr><th scope=row>Ncells</th><td> 2711785</td><td>144.9</td><td>  4014498</td><td>214.4</td><td>  4014498</td><td>214.4</td></tr>\n",
              "\t<tr><th scope=row>Vcells</th><td>54209970</td><td>413.6</td><td>121570259</td><td>927.6</td><td>120851155</td><td>922.1</td></tr>\n",
              "</tbody>\n",
              "</table>\n"
            ],
            "text/markdown": "\nA matrix: 2 × 6 of type dbl\n\n| <!--/--> | used | (Mb) | gc trigger | (Mb) | max used | (Mb) |\n|---|---|---|---|---|---|---|\n| Ncells |  2711785 | 144.9 |   4014498 | 214.4 |   4014498 | 214.4 |\n| Vcells | 54209970 | 413.6 | 121570259 | 927.6 | 120851155 | 922.1 |\n\n",
            "text/latex": "A matrix: 2 × 6 of type dbl\n\\begin{tabular}{r|llllll}\n  & used & (Mb) & gc trigger & (Mb) & max used & (Mb)\\\\\n\\hline\n\tNcells &  2711785 & 144.9 &   4014498 & 214.4 &   4014498 & 214.4\\\\\n\tVcells & 54209970 & 413.6 & 121570259 & 927.6 & 120851155 & 922.1\\\\\n\\end{tabular}\n",
            "text/plain": [
              "       used     (Mb)  gc trigger (Mb)  max used  (Mb) \n",
              "Ncells  2711785 144.9   4014498  214.4   4014498 214.4\n",
              "Vcells 54209970 413.6 121570259  927.6 120851155 922.1"
            ]
          },
          "metadata": {}
        }
      ],
      "source": [
        "colnames(ratings) = c('user', 'movie', 'rating')\n",
        "MovieLenseBig = acast(ratings, user ~ movie)\n",
        "MovieLenseBig = as(MovieLenseBig, 'realRatingMatrix')\n",
        "ml.matrix <- as(MovieLenseBig, \"matrix\") #convert the data into a 6040 user x 3706 movie matrix\n",
        "mask <- sample(c(0,1), 6040*3706, replace=TRUE, prob=c(.2, .8)) # entries with a '0' will be held-out\n",
        "mask <- matrix(mask, nrow = 6040, byrow = TRUE) # do this for 20%\n",
        "mlBig.train <- ml.matrix\n",
        "mlBig.train[mask==0] <- NA #if mask '0', ignore the entry\n",
        "mlBig.test <- ml.matrix\n",
        "mlBig.test[mask==1] <- NA #if mask '1', ignore the entry\n",
        "rm(mask,ml.matrix,MovieLenseBig,ratings)\n",
        "gc()\n"
      ]
    },
    {
      "cell_type": "code",
      "execution_count": null,
      "id": "eb1b8cc0-121f-443f-a694-fa719e8260e3",
      "metadata": {
        "id": "eb1b8cc0-121f-443f-a694-fa719e8260e3"
      },
      "outputs": [],
      "source": []
    }
  ],
  "metadata": {
    "kernelspec": {
      "display_name": "R",
      "language": "R",
      "name": "ir"
    },
    "language_info": {
      "codemirror_mode": "r",
      "file_extension": ".r",
      "mimetype": "text/x-r-source",
      "name": "R",
      "pygments_lexer": "r",
      "version": "4.3.2"
    },
    "colab": {
      "provenance": [],
      "include_colab_link": true
    }
  },
  "nbformat": 4,
  "nbformat_minor": 5
}